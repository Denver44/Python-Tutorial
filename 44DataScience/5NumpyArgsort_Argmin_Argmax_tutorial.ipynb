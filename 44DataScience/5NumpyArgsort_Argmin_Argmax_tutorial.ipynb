{
 "cells": [
  {
   "cell_type": "code",
   "execution_count": 4,
   "id": "6b2852a3",
   "metadata": {},
   "outputs": [
    {
     "data": {
      "text/plain": [
       "array([0, 1, 2, 3, 4, 5])"
      ]
     },
     "execution_count": 4,
     "metadata": {},
     "output_type": "execute_result"
    }
   ],
   "source": [
    "import numpy as np\n",
    "arr1 = np.arange(6)\n",
    "arr1"
   ]
  },
  {
   "cell_type": "code",
   "execution_count": 26,
   "id": "91901329",
   "metadata": {},
   "outputs": [
    {
     "name": "stdout",
     "output_type": "stream",
     "text": [
      "(32,)\n",
      "1\n"
     ]
    },
    {
     "data": {
      "text/plain": [
       "array([[   1,    2,    3,    4],\n",
       "       [   5,    6,    7,    8],\n",
       "       [   9,   10,   11,   12],\n",
       "       [  13,   55,    6,    4],\n",
       "       [   7,    8,    5,    5],\n",
       "       [   8,    5,   -8,    8],\n",
       "       [  84, 2000,    5,    6],\n",
       "       [   1,    5,    5,    6]])"
      ]
     },
     "execution_count": 26,
     "metadata": {},
     "output_type": "execute_result"
    }
   ],
   "source": [
    "arr1 = np.array([1,2,3,4,5,6,7,8,9,10,11,12,13,55,6,4,7,8,5,5,8,5,-8,8,84,2000,5,6,1,5,5,6])\n",
    "print(arr1.shape)\n",
    "print(arr1.ndim)\n",
    "arr1 = arr1.reshape(4,8)\n",
    "arr1\n",
    "arr1 = arr1.reshape(8,4)\n",
    "arr1"
   ]
  },
  {
   "cell_type": "code",
   "execution_count": 28,
   "id": "4fab0f7b",
   "metadata": {},
   "outputs": [
    {
     "data": {
      "text/plain": [
       "-8"
      ]
     },
     "execution_count": 28,
     "metadata": {},
     "output_type": "execute_result"
    }
   ],
   "source": [
    "arr1.min()"
   ]
  },
  {
   "cell_type": "code",
   "execution_count": 27,
   "id": "e7b30127",
   "metadata": {},
   "outputs": [
    {
     "data": {
      "text/plain": [
       "2000"
      ]
     },
     "execution_count": 27,
     "metadata": {},
     "output_type": "execute_result"
    }
   ],
   "source": [
    "arr1.max()"
   ]
  },
  {
   "cell_type": "code",
   "execution_count": 31,
   "id": "9661beaa",
   "metadata": {},
   "outputs": [
    {
     "data": {
      "text/plain": [
       "array([22,  0, 28,  1,  2, 15,  3, 18, 29, 26,  4, 21, 19, 30, 27,  5, 31,\n",
       "       14, 16,  6, 17, 20, 23,  7,  8,  9, 10, 11, 12, 13, 24, 25],\n",
       "      dtype=int32)"
      ]
     },
     "execution_count": 31,
     "metadata": {},
     "output_type": "execute_result"
    }
   ],
   "source": [
    "arr1 = np.array([1,2,3,4,5,6,7,8,9,10,11,12,13,55,6,4,7,8,5,5,8,5,-8,8,84,2000,5,6,1,5,5,6])\n",
    "np.argsort(arr1) # it gives the index to which u have to sort."
   ]
  },
  {
   "cell_type": "code",
   "execution_count": 32,
   "id": "010b60d3",
   "metadata": {},
   "outputs": [
    {
     "data": {
      "text/plain": [
       "array([  -8,    1,    1,    2,    3,    4,    4,    5,    5,    5,    5,\n",
       "          5,    5,    5,    6,    6,    6,    6,    7,    7,    8,    8,\n",
       "          8,    8,    9,   10,   11,   12,   13,   55,   84, 2000])"
      ]
     },
     "execution_count": 32,
     "metadata": {},
     "output_type": "execute_result"
    }
   ],
   "source": [
    "np.sort(arr1)"
   ]
  },
  {
   "cell_type": "code",
   "execution_count": 43,
   "id": "00ddfd25",
   "metadata": {},
   "outputs": [
    {
     "data": {
      "text/plain": [
       "4"
      ]
     },
     "execution_count": 43,
     "metadata": {},
     "output_type": "execute_result"
    }
   ],
   "source": [
    "arr1 = np.array([61,10,21,552,0,6])\n",
    "np.argmin(arr1)"
   ]
  },
  {
   "cell_type": "code",
   "execution_count": 44,
   "id": "dbf80e8f",
   "metadata": {},
   "outputs": [
    {
     "data": {
      "text/plain": [
       "3"
      ]
     },
     "execution_count": 44,
     "metadata": {},
     "output_type": "execute_result"
    }
   ],
   "source": [
    "arr1 = np.array([61,10,21,552,0,6])\n",
    "np.argmax(arr1)"
   ]
  }
 ],
 "metadata": {
  "kernelspec": {
   "display_name": "Python 3",
   "language": "python",
   "name": "python3"
  },
  "language_info": {
   "codemirror_mode": {
    "name": "ipython",
    "version": 3
   },
   "file_extension": ".py",
   "mimetype": "text/x-python",
   "name": "python",
   "nbconvert_exporter": "python",
   "pygments_lexer": "ipython3",
   "version": "3.8.5"
  }
 },
 "nbformat": 4,
 "nbformat_minor": 5
}
