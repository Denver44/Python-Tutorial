{
 "cells": [
  {
   "cell_type": "markdown",
   "id": "bde3b085",
   "metadata": {},
   "source": [
    "## BASIC FUNCTIONS\n"
   ]
  },
  {
   "cell_type": "code",
   "execution_count": 1,
   "id": "0d53260a",
   "metadata": {},
   "outputs": [
    {
     "name": "stdout",
     "output_type": "stream",
     "text": [
      "[1 2 3 4]\n",
      "<class 'numpy.ndarray'>\n"
     ]
    }
   ],
   "source": [
    "import numpy as np\n",
    "array1 = np.array([1,2,3,4])\n",
    "print(array1)\n",
    "print(type(array1))\n",
    "\n"
   ]
  },
  {
   "cell_type": "code",
   "execution_count": 2,
   "id": "7e597ec6",
   "metadata": {},
   "outputs": [
    {
     "name": "stdout",
     "output_type": "stream",
     "text": [
      "[[ 1.   2.   3.   4. ]\n",
      " [ 5.   6.5  7.   8. ]\n",
      " [ 9.  10.  11.  12. ]]\n",
      "(3, 4)\n"
     ]
    },
    {
     "data": {
      "text/plain": [
       "dtype('float64')"
      ]
     },
     "execution_count": 2,
     "metadata": {},
     "output_type": "execute_result"
    }
   ],
   "source": [
    "array2 = np.array([[1,2,3,4],[5,6.5,7,8],[9,10,11,12]])\n",
    "print(array2)\n",
    "print(array2.shape)\n",
    "array2.dtype"
   ]
  },
  {
   "cell_type": "code",
   "execution_count": 3,
   "id": "e62dd034",
   "metadata": {},
   "outputs": [
    {
     "name": "stdout",
     "output_type": "stream",
     "text": [
      "[[ 1  2  3  4]\n",
      " [ 5  6  7  8]\n",
      " [ 9 10 11 12]]\n",
      "(3, 4)\n"
     ]
    },
    {
     "data": {
      "text/plain": [
       "dtype('int32')"
      ]
     },
     "execution_count": 3,
     "metadata": {},
     "output_type": "execute_result"
    }
   ],
   "source": [
    "array2 = np.array([[1,2,3,4],[5,6.0,7,8],[9,10,11,12]],dtype='int32') #u can force also like here i did it\n",
    "print(array2)\n",
    "print(array2.shape)\n",
    "array2.dtype"
   ]
  },
  {
   "cell_type": "code",
   "execution_count": 4,
   "id": "33a016a9",
   "metadata": {},
   "outputs": [
    {
     "data": {
      "text/plain": [
       "array([[0., 0., 0., 0., 0., 0.],\n",
       "       [0., 0., 0., 0., 0., 0.],\n",
       "       [0., 0., 0., 0., 0., 0.],\n",
       "       [0., 0., 0., 0., 0., 0.]])"
      ]
     },
     "execution_count": 4,
     "metadata": {},
     "output_type": "execute_result"
    }
   ],
   "source": [
    "np.zeros((4,6)) # u to give the args in tuple when more than one dimension"
   ]
  },
  {
   "cell_type": "code",
   "execution_count": 5,
   "id": "00739e82",
   "metadata": {},
   "outputs": [
    {
     "data": {
      "text/plain": [
       "array([[1., 1., 1., 1., 1., 1.],\n",
       "       [1., 1., 1., 1., 1., 1.],\n",
       "       [1., 1., 1., 1., 1., 1.],\n",
       "       [1., 1., 1., 1., 1., 1.]])"
      ]
     },
     "execution_count": 5,
     "metadata": {},
     "output_type": "execute_result"
    }
   ],
   "source": [
    "np.ones((4,6)) "
   ]
  },
  {
   "cell_type": "code",
   "execution_count": 6,
   "id": "dcb2c5f4",
   "metadata": {},
   "outputs": [
    {
     "data": {
      "text/plain": [
       "array([[1, 1, 1, 1, 1, 1],\n",
       "       [1, 1, 1, 1, 1, 1],\n",
       "       [1, 1, 1, 1, 1, 1],\n",
       "       [1, 1, 1, 1, 1, 1]])"
      ]
     },
     "execution_count": 6,
     "metadata": {},
     "output_type": "execute_result"
    }
   ],
   "source": [
    "np.ones((4,6),dtype=\"int32\")\n"
   ]
  },
  {
   "cell_type": "code",
   "execution_count": 7,
   "id": "97ca331c",
   "metadata": {},
   "outputs": [
    {
     "data": {
      "text/plain": [
       "array([[1., 1., 1., 1., 1., 1.],\n",
       "       [1., 1., 1., 1., 1., 1.],\n",
       "       [1., 1., 1., 1., 1., 1.],\n",
       "       [1., 1., 1., 1., 1., 1.]])"
      ]
     },
     "execution_count": 7,
     "metadata": {},
     "output_type": "execute_result"
    }
   ],
   "source": [
    "np.empty((4,6)) # this values can be zero or 1 or garbage"
   ]
  },
  {
   "cell_type": "code",
   "execution_count": 8,
   "id": "fae01489",
   "metadata": {},
   "outputs": [
    {
     "data": {
      "text/plain": [
       "array([ 1,  4,  9, 16])"
      ]
     },
     "execution_count": 8,
     "metadata": {},
     "output_type": "execute_result"
    }
   ],
   "source": [
    "array1*array1"
   ]
  },
  {
   "cell_type": "code",
   "execution_count": 9,
   "id": "a0511257",
   "metadata": {},
   "outputs": [
    {
     "data": {
      "text/plain": [
       "array([  1,   4,  27, 256], dtype=int32)"
      ]
     },
     "execution_count": 9,
     "metadata": {},
     "output_type": "execute_result"
    }
   ],
   "source": [
    "array1**array1"
   ]
  },
  {
   "cell_type": "code",
   "execution_count": 10,
   "id": "53a12f76",
   "metadata": {},
   "outputs": [
    {
     "data": {
      "text/plain": [
       "array([1., 1., 1., 1.])"
      ]
     },
     "execution_count": 10,
     "metadata": {},
     "output_type": "execute_result"
    }
   ],
   "source": [
    "array1/array1"
   ]
  },
  {
   "cell_type": "code",
   "execution_count": 11,
   "id": "b842f6db",
   "metadata": {},
   "outputs": [
    {
     "data": {
      "text/plain": [
       "array([[  1,   4,   9,  16],\n",
       "       [ 25,  36,  49,  64],\n",
       "       [ 81, 100, 121, 144]])"
      ]
     },
     "execution_count": 11,
     "metadata": {},
     "output_type": "execute_result"
    }
   ],
   "source": [
    "array2*array2 # it actually multiply elemnet by element of that row and col not the conventional way.\n"
   ]
  },
  {
   "cell_type": "markdown",
   "id": "5eb0d97b",
   "metadata": {},
   "source": [
    "# Slicing"
   ]
  },
  {
   "cell_type": "code",
   "execution_count": 12,
   "id": "16052412",
   "metadata": {},
   "outputs": [
    {
     "name": "stdout",
     "output_type": "stream",
     "text": [
      "55\n",
      "66\n",
      "77\n",
      "88\n",
      "99\n",
      "[55 66 77 88 99]\n",
      "[66 77]\n",
      "I am arr3  [66 77]\n",
      "Changearr3[0] arr3  [67 77]\n",
      "[55 67 77 88 99]\n"
     ]
    }
   ],
   "source": [
    "arr1 = np.array([55,66,77,88,99])\n",
    "print(arr1[0])\n",
    "print(arr1[1])\n",
    "print(arr1[2])\n",
    "print(arr1[3])\n",
    "print(arr1[4])\n",
    "print(arr1[0:5])\n",
    "print(arr1[1:3])\n",
    "\n",
    "arr3 = arr1[1:3]\n",
    "print(\"I am arr3 \", arr3)\n",
    "arr3[0] = 67\n",
    "print(\"Changearr3[0] arr3 \", arr3)\n",
    "print(arr1)"
   ]
  },
  {
   "cell_type": "markdown",
   "id": "df1f6856",
   "metadata": {},
   "source": [
    " # using copy() we can solve this issue"
   ]
  },
  {
   "cell_type": "code",
   "execution_count": 13,
   "id": "0148cc74",
   "metadata": {},
   "outputs": [
    {
     "name": "stdout",
     "output_type": "stream",
     "text": [
      "[66 77]\n",
      "[67 77]\n",
      "[55 66 77 88 99]\n"
     ]
    }
   ],
   "source": [
    "arr1 = np.array([55,66,77,88,99])\n",
    "arr3 = arr1[1:3].copy()\n",
    "print(arr3)\n",
    "arr3[0] = 67\n",
    "print(arr3)\n",
    "print(arr1)"
   ]
  },
  {
   "cell_type": "code",
   "execution_count": 24,
   "id": "01e420db",
   "metadata": {},
   "outputs": [
    {
     "name": "stdout",
     "output_type": "stream",
     "text": [
      "[1 2 3 4]\n",
      "[5 6 7 8]\n",
      "1\n",
      "4\n",
      "8\n"
     ]
    }
   ],
   "source": [
    "arr4 = np.array([[1,2,3,4],[5,6,7,8],[9,10,11,12]])\n",
    "print(arr4[0])\n",
    "print(arr4[1])\n",
    "print(arr4[0][0])\n",
    "print(arr4[0][3])\n",
    "print(arr4[1,3])\n",
    "\n"
   ]
  }
 ],
 "metadata": {
  "kernelspec": {
   "display_name": "Python 3",
   "language": "python",
   "name": "python3"
  },
  "language_info": {
   "codemirror_mode": {
    "name": "ipython",
    "version": 3
   },
   "file_extension": ".py",
   "mimetype": "text/x-python",
   "name": "python",
   "nbconvert_exporter": "python",
   "pygments_lexer": "ipython3",
   "version": "3.8.5"
  }
 },
 "nbformat": 4,
 "nbformat_minor": 5
}
